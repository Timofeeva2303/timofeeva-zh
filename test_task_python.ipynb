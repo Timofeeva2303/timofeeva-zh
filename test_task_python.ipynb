{
 "cells": [
  {
   "cell_type": "markdown",
   "metadata": {},
   "source": [
    "### Тестовое задание. Задача 3"
   ]
  },
  {
   "cell_type": "code",
   "execution_count": 2,
   "metadata": {},
   "outputs": [],
   "source": [
    "import pandas as pd\n",
    "import seaborn as sns\n",
    "import matplotlib.pyplot as plt \n",
    "%matplotlib inline\n",
    "\n",
    "#импортируем библиотеки"
   ]
  },
  {
   "cell_type": "code",
   "execution_count": 81,
   "metadata": {},
   "outputs": [
    {
     "data": {
      "text/html": [
       "<div>\n",
       "<style scoped>\n",
       "    .dataframe tbody tr th:only-of-type {\n",
       "        vertical-align: middle;\n",
       "    }\n",
       "\n",
       "    .dataframe tbody tr th {\n",
       "        vertical-align: top;\n",
       "    }\n",
       "\n",
       "    .dataframe thead th {\n",
       "        text-align: right;\n",
       "    }\n",
       "</style>\n",
       "<table border=\"1\" class=\"dataframe\">\n",
       "  <thead>\n",
       "    <tr style=\"text-align: right;\">\n",
       "      <th></th>\n",
       "      <th>order_id</th>\n",
       "      <th>date</th>\n",
       "      <th>product</th>\n",
       "      <th>category</th>\n",
       "      <th>price</th>\n",
       "      <th>quantity</th>\n",
       "      <th>customer_id</th>\n",
       "      <th>city</th>\n",
       "    </tr>\n",
       "  </thead>\n",
       "  <tbody>\n",
       "    <tr>\n",
       "      <th>0</th>\n",
       "      <td>1001</td>\n",
       "      <td>3/1/2024</td>\n",
       "      <td>Ноутбук</td>\n",
       "      <td>Электроника</td>\n",
       "      <td>33750</td>\n",
       "      <td>1</td>\n",
       "      <td>501</td>\n",
       "      <td>Санкт-Петербург</td>\n",
       "    </tr>\n",
       "    <tr>\n",
       "      <th>1</th>\n",
       "      <td>1002</td>\n",
       "      <td>3/2/2024</td>\n",
       "      <td>Смарфтон</td>\n",
       "      <td>Электроника</td>\n",
       "      <td>15789</td>\n",
       "      <td>2</td>\n",
       "      <td>502</td>\n",
       "      <td>Москва</td>\n",
       "    </tr>\n",
       "    <tr>\n",
       "      <th>2</th>\n",
       "      <td>1003</td>\n",
       "      <td>3/3/2024</td>\n",
       "      <td>ТВ</td>\n",
       "      <td>Электроника</td>\n",
       "      <td>1200</td>\n",
       "      <td>1</td>\n",
       "      <td>503</td>\n",
       "      <td>Нижний Новгород</td>\n",
       "    </tr>\n",
       "    <tr>\n",
       "      <th>3</th>\n",
       "      <td>1004</td>\n",
       "      <td>3/4/2024</td>\n",
       "      <td>Стул</td>\n",
       "      <td>Мебель</td>\n",
       "      <td>1699</td>\n",
       "      <td>4</td>\n",
       "      <td>504</td>\n",
       "      <td>Владивосток</td>\n",
       "    </tr>\n",
       "    <tr>\n",
       "      <th>4</th>\n",
       "      <td>1005</td>\n",
       "      <td>3/4/2024</td>\n",
       "      <td>Ноутбук</td>\n",
       "      <td>Электроника</td>\n",
       "      <td>89999</td>\n",
       "      <td>1</td>\n",
       "      <td>503</td>\n",
       "      <td>Нижний Новгород</td>\n",
       "    </tr>\n",
       "    <tr>\n",
       "      <th>5</th>\n",
       "      <td>1006</td>\n",
       "      <td>3/4/2024</td>\n",
       "      <td>Ноутбук</td>\n",
       "      <td>Электроника</td>\n",
       "      <td>122999</td>\n",
       "      <td>2</td>\n",
       "      <td>504</td>\n",
       "      <td>Москва</td>\n",
       "    </tr>\n",
       "    <tr>\n",
       "      <th>6</th>\n",
       "      <td>1007</td>\n",
       "      <td>3/5/2024</td>\n",
       "      <td>Планшет</td>\n",
       "      <td>Электроника</td>\n",
       "      <td>17599</td>\n",
       "      <td>1</td>\n",
       "      <td>505</td>\n",
       "      <td>Нижний Новгород</td>\n",
       "    </tr>\n",
       "    <tr>\n",
       "      <th>7</th>\n",
       "      <td>1008</td>\n",
       "      <td>3/6/2024</td>\n",
       "      <td>Стиральная машина</td>\n",
       "      <td>Бытовая техника</td>\n",
       "      <td>37599</td>\n",
       "      <td>1</td>\n",
       "      <td>506</td>\n",
       "      <td>Самара</td>\n",
       "    </tr>\n",
       "    <tr>\n",
       "      <th>8</th>\n",
       "      <td>1009</td>\n",
       "      <td>3/6/2024</td>\n",
       "      <td>Газовая плита</td>\n",
       "      <td>Бытовая техника</td>\n",
       "      <td>33799</td>\n",
       "      <td>2</td>\n",
       "      <td>507</td>\n",
       "      <td>Санкт-Петербург</td>\n",
       "    </tr>\n",
       "  </tbody>\n",
       "</table>\n",
       "</div>"
      ],
      "text/plain": [
       "   order_id      date            product         category   price  quantity  \\\n",
       "0      1001  3/1/2024            Ноутбук      Электроника   33750         1   \n",
       "1      1002  3/2/2024           Смарфтон      Электроника   15789         2   \n",
       "2      1003  3/3/2024                 ТВ      Электроника    1200         1   \n",
       "3      1004  3/4/2024               Стул           Мебель    1699         4   \n",
       "4      1005  3/4/2024            Ноутбук      Электроника   89999         1   \n",
       "5      1006  3/4/2024            Ноутбук      Электроника  122999         2   \n",
       "6      1007  3/5/2024            Планшет      Электроника   17599         1   \n",
       "7      1008  3/6/2024  Стиральная машина  Бытовая техника   37599         1   \n",
       "8      1009  3/6/2024      Газовая плита  Бытовая техника   33799         2   \n",
       "\n",
       "   customer_id             city  \n",
       "0          501  Санкт-Петербург  \n",
       "1          502           Москва  \n",
       "2          503  Нижний Новгород  \n",
       "3          504      Владивосток  \n",
       "4          503  Нижний Новгород  \n",
       "5          504           Москва  \n",
       "6          505  Нижний Новгород  \n",
       "7          506           Самара  \n",
       "8          507  Санкт-Петербург  "
      ]
     },
     "execution_count": 81,
     "metadata": {},
     "output_type": "execute_result"
    }
   ],
   "source": [
    "data = pd.read_csv('dataset 3.xlsx - Лист1.csv') #читаем файл, сохранила его в csv\n",
    "data"
   ]
  },
  {
   "cell_type": "code",
   "execution_count": 82,
   "metadata": {},
   "outputs": [
    {
     "data": {
      "text/plain": [
       "order_id        int64\n",
       "date           object\n",
       "product        object\n",
       "category       object\n",
       "price           int64\n",
       "quantity        int64\n",
       "customer_id     int64\n",
       "city           object\n",
       "dtype: object"
      ]
     },
     "execution_count": 82,
     "metadata": {},
     "output_type": "execute_result"
    }
   ],
   "source": [
    "data.dtypes #проверяем типы данных"
   ]
  },
  {
   "cell_type": "code",
   "execution_count": 83,
   "metadata": {},
   "outputs": [],
   "source": [
    "data.date = pd.to_datetime(data.date) #лучше колонку с датой преобразовать в соотв. тип"
   ]
  },
  {
   "cell_type": "code",
   "execution_count": 84,
   "metadata": {},
   "outputs": [
    {
     "data": {
      "text/plain": [
       "order_id                int64\n",
       "date           datetime64[ns]\n",
       "product                object\n",
       "category               object\n",
       "price                   int64\n",
       "quantity                int64\n",
       "customer_id             int64\n",
       "city                   object\n",
       "dtype: object"
      ]
     },
     "execution_count": 84,
     "metadata": {},
     "output_type": "execute_result"
    }
   ],
   "source": [
    "data.dtypes"
   ]
  },
  {
   "cell_type": "markdown",
   "metadata": {},
   "source": [
    "Какой общий объём продаж по всему датасету?"
   ]
  },
  {
   "cell_type": "code",
   "execution_count": 11,
   "metadata": {},
   "outputs": [
    {
     "name": "stdout",
     "output_type": "stream",
     "text": [
      "Общий объем продаж составил: 532117 рублей.\n"
     ]
    }
   ],
   "source": [
    "print(f\"Общий объем продаж составил: {sum(data.price * data.quantity)} рублей.\")"
   ]
  },
  {
   "cell_type": "markdown",
   "metadata": {},
   "source": [
    "Какая средняя цена товара в каждой категории?"
   ]
  },
  {
   "cell_type": "code",
   "execution_count": 17,
   "metadata": {},
   "outputs": [
    {
     "data": {
      "text/html": [
       "<div>\n",
       "<style scoped>\n",
       "    .dataframe tbody tr th:only-of-type {\n",
       "        vertical-align: middle;\n",
       "    }\n",
       "\n",
       "    .dataframe tbody tr th {\n",
       "        vertical-align: top;\n",
       "    }\n",
       "\n",
       "    .dataframe thead th {\n",
       "        text-align: right;\n",
       "    }\n",
       "</style>\n",
       "<table border=\"1\" class=\"dataframe\">\n",
       "  <thead>\n",
       "    <tr style=\"text-align: right;\">\n",
       "      <th></th>\n",
       "      <th>category</th>\n",
       "      <th>price</th>\n",
       "    </tr>\n",
       "  </thead>\n",
       "  <tbody>\n",
       "    <tr>\n",
       "      <th>0</th>\n",
       "      <td>Бытовая техника</td>\n",
       "      <td>35699.00</td>\n",
       "    </tr>\n",
       "    <tr>\n",
       "      <th>1</th>\n",
       "      <td>Мебель</td>\n",
       "      <td>1699.00</td>\n",
       "    </tr>\n",
       "    <tr>\n",
       "      <th>2</th>\n",
       "      <td>Электроника</td>\n",
       "      <td>46889.33</td>\n",
       "    </tr>\n",
       "  </tbody>\n",
       "</table>\n",
       "</div>"
      ],
      "text/plain": [
       "          category     price\n",
       "0  Бытовая техника  35699.00\n",
       "1           Мебель   1699.00\n",
       "2      Электроника  46889.33"
      ]
     },
     "execution_count": 17,
     "metadata": {},
     "output_type": "execute_result"
    }
   ],
   "source": [
    "data.groupby('category', as_index=False).agg({'price': 'mean'}).round(2)\n",
    "#группируем по категории, с помощью функции agg считаем среднюю цену для каждой категории и округляем знач. до 2 знаков "
   ]
  },
  {
   "cell_type": "code",
   "execution_count": 33,
   "metadata": {},
   "outputs": [
    {
     "name": "stdout",
     "output_type": "stream",
     "text": [
      "\n",
      "Средняя цена товара в категории Бытовая техника составила 35699.00.\n",
      "Средняя цена товара в категории Мебель составила 1699.00.\n",
      "Средняя цена товара в категории Электроника составила 46889.33.\n"
     ]
    }
   ],
   "source": [
    "print(\"\"\"\n",
    "Средняя цена товара в категории Бытовая техника составила 35699.00.\n",
    "Средняя цена товара в категории Мебель составила 1699.00.\n",
    "Средняя цена товара в категории Электроника составила 46889.33.\"\"\")"
   ]
  },
  {
   "cell_type": "markdown",
   "metadata": {},
   "source": [
    "Сколько уникальных клиентов совершили покупки?"
   ]
  },
  {
   "cell_type": "code",
   "execution_count": 87,
   "metadata": {},
   "outputs": [
    {
     "data": {
      "text/plain": [
       "7"
      ]
     },
     "execution_count": 87,
     "metadata": {},
     "output_type": "execute_result"
    }
   ],
   "source": [
    "data.customer_id.nunique() #функция nunique() считает кол-во уникальных значений"
   ]
  },
  {
   "cell_type": "code",
   "execution_count": 43,
   "metadata": {},
   "outputs": [
    {
     "name": "stdout",
     "output_type": "stream",
     "text": [
      "7 уникальных пользователей совершили покупки.\n"
     ]
    }
   ],
   "source": [
    "print(f\"{data.customer_id.nunique()} уникальных пользователей совершили покупки.\")"
   ]
  },
  {
   "cell_type": "markdown",
   "metadata": {},
   "source": [
    "В каком городе больше было всего заказов?"
   ]
  },
  {
   "cell_type": "code",
   "execution_count": 48,
   "metadata": {},
   "outputs": [
    {
     "data": {
      "text/html": [
       "<div>\n",
       "<style scoped>\n",
       "    .dataframe tbody tr th:only-of-type {\n",
       "        vertical-align: middle;\n",
       "    }\n",
       "\n",
       "    .dataframe tbody tr th {\n",
       "        vertical-align: top;\n",
       "    }\n",
       "\n",
       "    .dataframe thead th {\n",
       "        text-align: right;\n",
       "    }\n",
       "</style>\n",
       "<table border=\"1\" class=\"dataframe\">\n",
       "  <thead>\n",
       "    <tr style=\"text-align: right;\">\n",
       "      <th></th>\n",
       "      <th>city</th>\n",
       "      <th>order_id</th>\n",
       "    </tr>\n",
       "  </thead>\n",
       "  <tbody>\n",
       "    <tr>\n",
       "      <th>2</th>\n",
       "      <td>Нижний Новгород</td>\n",
       "      <td>3</td>\n",
       "    </tr>\n",
       "    <tr>\n",
       "      <th>1</th>\n",
       "      <td>Москва</td>\n",
       "      <td>2</td>\n",
       "    </tr>\n",
       "    <tr>\n",
       "      <th>4</th>\n",
       "      <td>Санкт-Петербург</td>\n",
       "      <td>2</td>\n",
       "    </tr>\n",
       "    <tr>\n",
       "      <th>0</th>\n",
       "      <td>Владивосток</td>\n",
       "      <td>1</td>\n",
       "    </tr>\n",
       "    <tr>\n",
       "      <th>3</th>\n",
       "      <td>Самара</td>\n",
       "      <td>1</td>\n",
       "    </tr>\n",
       "  </tbody>\n",
       "</table>\n",
       "</div>"
      ],
      "text/plain": [
       "              city  order_id\n",
       "2  Нижний Новгород         3\n",
       "1           Москва         2\n",
       "4  Санкт-Петербург         2\n",
       "0      Владивосток         1\n",
       "3           Самара         1"
      ]
     },
     "execution_count": 48,
     "metadata": {},
     "output_type": "execute_result"
    }
   ],
   "source": [
    "data.groupby('city', as_index=False).agg({'order_id' : 'count'}).sort_values('order_id', ascending=False)\n",
    "#группируем по городу, убираем город из индекса, функцией agg считаем кол-во заказов, сортируем по убыванию "
   ]
  },
  {
   "cell_type": "code",
   "execution_count": 51,
   "metadata": {},
   "outputs": [
    {
     "name": "stdout",
     "output_type": "stream",
     "text": [
      "Больше всего заказов было сделано в Нижнем Новгороде.\n"
     ]
    }
   ],
   "source": [
    "print(f\"Больше всего заказов было сделано в Нижнем Новгороде.\")"
   ]
  },
  {
   "cell_type": "markdown",
   "metadata": {},
   "source": [
    "Какую категорию товаров покупали чаще всего?"
   ]
  },
  {
   "cell_type": "code",
   "execution_count": 88,
   "metadata": {},
   "outputs": [
    {
     "data": {
      "text/plain": [
       "Электроника        6\n",
       "Бытовая техника    2\n",
       "Мебель             1\n",
       "Name: category, dtype: int64"
      ]
     },
     "execution_count": 88,
     "metadata": {},
     "output_type": "execute_result"
    }
   ],
   "source": [
    "data.category.value_counts() #считаем кол-во повторений значения в колонке с помощью value_counts()"
   ]
  },
  {
   "cell_type": "code",
   "execution_count": 56,
   "metadata": {},
   "outputs": [
    {
     "name": "stdout",
     "output_type": "stream",
     "text": [
      "Чаще всего покупали товары из категории Электроника.\n"
     ]
    }
   ],
   "source": [
    "print(f\"Чаще всего покупали товары из категории Электроника.\")"
   ]
  },
  {
   "cell_type": "code",
   "execution_count": 86,
   "metadata": {},
   "outputs": [
    {
     "data": {
      "text/plain": [
       "Text(0, 0.5, 'Количество продаж')"
      ]
     },
     "execution_count": 86,
     "metadata": {},
     "output_type": "execute_result"
    },
    {
     "data": {
      "image/png": "[encoded data removed]",
      "text/plain": [
       "<Figure size 1080x720 with 1 Axes>"
      ]
     },
     "metadata": {
      "needs_background": "light"
     },
     "output_type": "display_data"
    }
   ],
   "source": [
    "plt.figure(figsize=(15, 10)) #делаем сам график по размеру чуть больше\n",
    "\n",
    "sns.lineplot(data = data, x = 'date', y = 'order_id') #строим график\n",
    "plt.title('Продажи по датам') #добавляем заголовок\n",
    "plt.xlabel('Дата') #добавляем подпись по оси Х\n",
    "plt.ylabel('Количество продаж') #добавляем подпись по оси Y"
   ]
  }
 ],
 "metadata": {
  "kernelspec": {
   "display_name": "Python 3",
   "language": "python",
   "name": "python3"
  },
  "language_info": {
   "codemirror_mode": {
    "name": "ipython",
    "version": 3
   },
   "file_extension": ".py",
   "mimetype": "text/x-python",
   "name": "python",
   "nbconvert_exporter": "python",
   "pygments_lexer": "ipython3",
   "version": "3.7.3"
  }
 },
 "nbformat": 4,
 "nbformat_minor": 4
}
